{
 "cells": [
  {
   "cell_type": "code",
   "execution_count": 23,
   "id": "af9ed05b",
   "metadata": {},
   "outputs": [],
   "source": [
    "#Importing necessary packages\n",
    "\n",
    "import pandas as pd\n",
    "import numpy as np\n",
    "import matplotlib.pyplot as plt\n",
    "import seaborn as sns\n"
   ]
  },
  {
   "cell_type": "code",
   "execution_count": 2,
   "id": "b7e85868",
   "metadata": {},
   "outputs": [],
   "source": [
    "#Loading the final data after transformation\n",
    "\n",
    "unemployment_data = pd.read_csv(\"unemployment_data.csv\",index_col = [0])"
   ]
  },
  {
   "cell_type": "code",
   "execution_count": 3,
   "id": "e942fc38",
   "metadata": {},
   "outputs": [
    {
     "data": {
      "text/html": [
       "<div>\n",
       "<style scoped>\n",
       "    .dataframe tbody tr th:only-of-type {\n",
       "        vertical-align: middle;\n",
       "    }\n",
       "\n",
       "    .dataframe tbody tr th {\n",
       "        vertical-align: top;\n",
       "    }\n",
       "\n",
       "    .dataframe thead th {\n",
       "        text-align: right;\n",
       "    }\n",
       "</style>\n",
       "<table border=\"1\" class=\"dataframe\">\n",
       "  <thead>\n",
       "    <tr style=\"text-align: right;\">\n",
       "      <th></th>\n",
       "      <th>State</th>\n",
       "      <th>Non-Workers - PersonsGraduate and above other than Technical Degree</th>\n",
       "      <th>Non-Workers - PersonsIlliterate</th>\n",
       "      <th>Non-Workers - PersonsLiterate</th>\n",
       "      <th>Non-Workers - PersonsLiterate but below Matric/Secondary</th>\n",
       "      <th>Non-Workers - PersonsMatric/Secondary but below Graduate</th>\n",
       "      <th>Non-Workers - PersonsTechnical Degree or Diploma equal to Degree or Post-Graduate Degree</th>\n",
       "      <th>Non-Workers - PersonsTechnical Diploma or Certificate not equal to Degree</th>\n",
       "      <th>Non-Workers - PersonsTotal</th>\n",
       "      <th>Non-Workers - MalesGraduate and above other than Technical Degree</th>\n",
       "      <th>...</th>\n",
       "      <th>Total Male</th>\n",
       "      <th>Female upto 14 years</th>\n",
       "      <th>Female 15-29 years</th>\n",
       "      <th>Female 30-44 years</th>\n",
       "      <th>Female 45-59 years</th>\n",
       "      <th>Female 60 years and above</th>\n",
       "      <th>Total Female</th>\n",
       "      <th>Grand Total</th>\n",
       "      <th>%ageofPersons (Total)</th>\n",
       "      <th>No.ofPersons(lakhs) (Total)</th>\n",
       "    </tr>\n",
       "  </thead>\n",
       "  <tbody>\n",
       "    <tr>\n",
       "      <th>0</th>\n",
       "      <td>Andaman &amp; Nicobar Islands</td>\n",
       "      <td>6333</td>\n",
       "      <td>67178</td>\n",
       "      <td>160868</td>\n",
       "      <td>108094</td>\n",
       "      <td>40370</td>\n",
       "      <td>1150</td>\n",
       "      <td>1513</td>\n",
       "      <td>228046</td>\n",
       "      <td>1398</td>\n",
       "      <td>...</td>\n",
       "      <td>10</td>\n",
       "      <td>0</td>\n",
       "      <td>0</td>\n",
       "      <td>0</td>\n",
       "      <td>1</td>\n",
       "      <td>0</td>\n",
       "      <td>1</td>\n",
       "      <td>11</td>\n",
       "      <td>1.00</td>\n",
       "      <td>0.04</td>\n",
       "    </tr>\n",
       "    <tr>\n",
       "      <th>1</th>\n",
       "      <td>Andhra Pradesh</td>\n",
       "      <td>1684053</td>\n",
       "      <td>16961578</td>\n",
       "      <td>28196293</td>\n",
       "      <td>16291298</td>\n",
       "      <td>7813178</td>\n",
       "      <td>702312</td>\n",
       "      <td>282912</td>\n",
       "      <td>45157871</td>\n",
       "      <td>685788</td>\n",
       "      <td>...</td>\n",
       "      <td>535</td>\n",
       "      <td>0</td>\n",
       "      <td>59</td>\n",
       "      <td>30</td>\n",
       "      <td>14</td>\n",
       "      <td>4</td>\n",
       "      <td>107</td>\n",
       "      <td>642</td>\n",
       "      <td>9.20</td>\n",
       "      <td>78.78</td>\n",
       "    </tr>\n",
       "    <tr>\n",
       "      <th>2</th>\n",
       "      <td>Arunachal Pradesh</td>\n",
       "      <td>13537</td>\n",
       "      <td>355609</td>\n",
       "      <td>440461</td>\n",
       "      <td>322414</td>\n",
       "      <td>92214</td>\n",
       "      <td>1981</td>\n",
       "      <td>1231</td>\n",
       "      <td>796070</td>\n",
       "      <td>6230</td>\n",
       "      <td>...</td>\n",
       "      <td>7</td>\n",
       "      <td>1</td>\n",
       "      <td>2</td>\n",
       "      <td>0</td>\n",
       "      <td>0</td>\n",
       "      <td>0</td>\n",
       "      <td>3</td>\n",
       "      <td>10</td>\n",
       "      <td>34.67</td>\n",
       "      <td>4.91</td>\n",
       "    </tr>\n",
       "    <tr>\n",
       "      <th>3</th>\n",
       "      <td>Assam</td>\n",
       "      <td>333647</td>\n",
       "      <td>8166257</td>\n",
       "      <td>11069629</td>\n",
       "      <td>8281329</td>\n",
       "      <td>2002325</td>\n",
       "      <td>23865</td>\n",
       "      <td>13259</td>\n",
       "      <td>19235886</td>\n",
       "      <td>118601</td>\n",
       "      <td>...</td>\n",
       "      <td>48</td>\n",
       "      <td>0</td>\n",
       "      <td>6</td>\n",
       "      <td>5</td>\n",
       "      <td>0</td>\n",
       "      <td>0</td>\n",
       "      <td>11</td>\n",
       "      <td>59</td>\n",
       "      <td>31.98</td>\n",
       "      <td>101.27</td>\n",
       "    </tr>\n",
       "    <tr>\n",
       "      <th>4</th>\n",
       "      <td>Bihar</td>\n",
       "      <td>1071449</td>\n",
       "      <td>35779912</td>\n",
       "      <td>33594553</td>\n",
       "      <td>24928665</td>\n",
       "      <td>5853059</td>\n",
       "      <td>112005</td>\n",
       "      <td>17767</td>\n",
       "      <td>69374465</td>\n",
       "      <td>563409</td>\n",
       "      <td>...</td>\n",
       "      <td>49</td>\n",
       "      <td>0</td>\n",
       "      <td>5</td>\n",
       "      <td>2</td>\n",
       "      <td>0</td>\n",
       "      <td>0</td>\n",
       "      <td>7</td>\n",
       "      <td>56</td>\n",
       "      <td>33.74</td>\n",
       "      <td>358.15</td>\n",
       "    </tr>\n",
       "  </tbody>\n",
       "</table>\n",
       "<p>5 rows × 73 columns</p>\n",
       "</div>"
      ],
      "text/plain": [
       "                        State  \\\n",
       "0   Andaman & Nicobar Islands   \n",
       "1              Andhra Pradesh   \n",
       "2           Arunachal Pradesh   \n",
       "3                       Assam   \n",
       "4                       Bihar   \n",
       "\n",
       "   Non-Workers - PersonsGraduate and above other than Technical Degree  \\\n",
       "0                                               6333                     \n",
       "1                                            1684053                     \n",
       "2                                              13537                     \n",
       "3                                             333647                     \n",
       "4                                            1071449                     \n",
       "\n",
       "   Non-Workers - PersonsIlliterate  Non-Workers - PersonsLiterate  \\\n",
       "0                            67178                         160868   \n",
       "1                         16961578                       28196293   \n",
       "2                           355609                         440461   \n",
       "3                          8166257                       11069629   \n",
       "4                         35779912                       33594553   \n",
       "\n",
       "   Non-Workers - PersonsLiterate but below Matric/Secondary  \\\n",
       "0                                             108094          \n",
       "1                                           16291298          \n",
       "2                                             322414          \n",
       "3                                            8281329          \n",
       "4                                           24928665          \n",
       "\n",
       "   Non-Workers - PersonsMatric/Secondary but below Graduate  \\\n",
       "0                                              40370          \n",
       "1                                            7813178          \n",
       "2                                              92214          \n",
       "3                                            2002325          \n",
       "4                                            5853059          \n",
       "\n",
       "   Non-Workers - PersonsTechnical Degree or Diploma equal to Degree or Post-Graduate Degree  \\\n",
       "0                                               1150                                          \n",
       "1                                             702312                                          \n",
       "2                                               1981                                          \n",
       "3                                              23865                                          \n",
       "4                                             112005                                          \n",
       "\n",
       "   Non-Workers - PersonsTechnical Diploma or Certificate not equal to Degree  \\\n",
       "0                                               1513                           \n",
       "1                                             282912                           \n",
       "2                                               1231                           \n",
       "3                                              13259                           \n",
       "4                                              17767                           \n",
       "\n",
       "   Non-Workers - PersonsTotal  \\\n",
       "0                      228046   \n",
       "1                    45157871   \n",
       "2                      796070   \n",
       "3                    19235886   \n",
       "4                    69374465   \n",
       "\n",
       "   Non-Workers - MalesGraduate and above other than Technical Degree  ...  \\\n",
       "0                                               1398                  ...   \n",
       "1                                             685788                  ...   \n",
       "2                                               6230                  ...   \n",
       "3                                             118601                  ...   \n",
       "4                                             563409                  ...   \n",
       "\n",
       "   Total Male  Female upto 14 years  Female 15-29 years  Female 30-44 years  \\\n",
       "0          10                     0                   0                   0   \n",
       "1         535                     0                  59                  30   \n",
       "2           7                     1                   2                   0   \n",
       "3          48                     0                   6                   5   \n",
       "4          49                     0                   5                   2   \n",
       "\n",
       "   Female 45-59 years  Female 60 years and above  Total Female  Grand Total  \\\n",
       "0                   1                          0             1           11   \n",
       "1                  14                          4           107          642   \n",
       "2                   0                          0             3           10   \n",
       "3                   0                          0            11           59   \n",
       "4                   0                          0             7           56   \n",
       "\n",
       "   %ageofPersons (Total)  No.ofPersons(lakhs) (Total)  \n",
       "0                   1.00                         0.04  \n",
       "1                   9.20                        78.78  \n",
       "2                  34.67                         4.91  \n",
       "3                  31.98                       101.27  \n",
       "4                  33.74                       358.15  \n",
       "\n",
       "[5 rows x 73 columns]"
      ]
     },
     "execution_count": 3,
     "metadata": {},
     "output_type": "execute_result"
    }
   ],
   "source": [
    "unemployment_data.head()"
   ]
  },
  {
   "cell_type": "markdown",
   "id": "ea31fb80",
   "metadata": {},
   "source": [
    "The suicide data for unemployed men and women is classified into different age groups. The focus for the first part of this research question is to identify the more suicidal gender out of the two."
   ]
  },
  {
   "cell_type": "markdown",
   "id": "d1687f43",
   "metadata": {},
   "source": [
    "We have the numbers for suicide victims state wise, it'd be important to look at the male and female suicide count for the entire year 2011."
   ]
  },
  {
   "cell_type": "code",
   "execution_count": 4,
   "id": "ab02447b",
   "metadata": {},
   "outputs": [
    {
     "data": {
      "text/plain": [
       "8577"
      ]
     },
     "execution_count": 4,
     "metadata": {},
     "output_type": "execute_result"
    }
   ],
   "source": [
    "male_count = unemployment_data[\"Total Male\"].sum()\n",
    "male_count"
   ]
  },
  {
   "cell_type": "code",
   "execution_count": 5,
   "id": "88b8cbdd",
   "metadata": {},
   "outputs": [
    {
     "data": {
      "text/plain": [
       "1842"
      ]
     },
     "execution_count": 5,
     "metadata": {},
     "output_type": "execute_result"
    }
   ],
   "source": [
    "female_count = unemployment_data[\"Total Female\"].sum()\n",
    "female_count"
   ]
  },
  {
   "cell_type": "markdown",
   "id": "050e50ef",
   "metadata": {},
   "source": [
    "The suicide counts for both genders are poles apart. The number of men who committed suicide are around 4.6 times more than the women who lost their lives. Hence men were more suicidal in 2011 as compared to women."
   ]
  },
  {
   "cell_type": "markdown",
   "id": "e1fa5693",
   "metadata": {},
   "source": [
    "It'd be helpful to look at the distribution of these numbers."
   ]
  },
  {
   "cell_type": "code",
   "execution_count": 33,
   "id": "90ebd0a0",
   "metadata": {},
   "outputs": [
    {
     "data": {
      "text/plain": [
       "Text(0.5, 49.99999999999995, 'Unemployed men suicide victims')"
      ]
     },
     "execution_count": 33,
     "metadata": {},
     "output_type": "execute_result"
    },
    {
     "data": {
      "image/png": "[encoded data removed]",
      "text/plain": [
       "<Figure size 432x432 with 3 Axes>"
      ]
     },
     "metadata": {
      "needs_background": "light"
     },
     "output_type": "display_data"
    }
   ],
   "source": [
    "sns.jointplot(data = unemployment_data, x=\"Total Male\", y=\"Total Female\")"
   ]
  },
  {
   "cell_type": "code",
   "execution_count": 34,
   "id": "4811c5c2",
   "metadata": {},
   "outputs": [
    {
     "data": {
      "image/png": "[encoded data removed]",
      "text/plain": [
       "<Figure size 432x432 with 3 Axes>"
      ]
     },
     "metadata": {
      "needs_background": "light"
     },
     "output_type": "display_data"
    }
   ],
   "source": [
    "g = sns.JointGrid(data=unemployment_data, \n",
    "                  x=\"Total Male\",\n",
    "                  y=\"Total Female\")\n",
    "\n",
    "g.plot_joint(sns.scatterplot)\n",
    "g.plot_marginals(sns.boxplot)\n",
    "plt.savefig(\"Scatterplot_with_marginal_boxplot_Seaborn.png\",\n",
    "                    format='png',dpi=150)"
   ]
  },
  {
   "cell_type": "code",
   "execution_count": 8,
   "id": "a7aab076",
   "metadata": {},
   "outputs": [],
   "source": [
    "Q1 =  unemployment_data['Total Male'].quantile(0.25)\n",
    "Q3 = unemployment_data['Total Male'].quantile(0.75)\n",
    "IQR = Q3- Q1"
   ]
  },
  {
   "cell_type": "code",
   "execution_count": 9,
   "id": "3c4a3a76",
   "metadata": {},
   "outputs": [
    {
     "data": {
      "text/plain": [
       "30      Tamil Nadu\n",
       "34     West Bengal\n",
       "Name: State, dtype: object"
      ]
     },
     "execution_count": 9,
     "metadata": {},
     "output_type": "execute_result"
    }
   ],
   "source": [
    "unemployment_data[(unemployment_data['Total Male'] < Q1-1.5*IQR ) | (unemployment_data['Total Male'] > Q3+1.5*IQR)]['State']"
   ]
  },
  {
   "cell_type": "markdown",
   "id": "8beeeb9f",
   "metadata": {},
   "source": [
    "Tamil Nadu and West Bengal witnessed the most number of unemployed men losing their lives."
   ]
  },
  {
   "cell_type": "markdown",
   "id": "cfc65793",
   "metadata": {},
   "source": [
    "Apparently, three states had very few unusual female suicide victims as compared to the majority of states."
   ]
  },
  {
   "cell_type": "code",
   "execution_count": 12,
   "id": "57708833",
   "metadata": {},
   "outputs": [],
   "source": [
    "Q1 =  unemployment_data['Total Female'].quantile(0.25)\n",
    "Q3 = unemployment_data['Total Female'].quantile(0.75)\n",
    "IQR = Q3- Q1"
   ]
  },
  {
   "cell_type": "code",
   "execution_count": 14,
   "id": "546bfaaa",
   "metadata": {},
   "outputs": [
    {
     "data": {
      "text/plain": [
       "25          Odisha\n",
       "30      Tamil Nadu\n",
       "34     West Bengal\n",
       "Name: State, dtype: object"
      ]
     },
     "execution_count": 14,
     "metadata": {},
     "output_type": "execute_result"
    }
   ],
   "source": [
    "unemployment_data[(unemployment_data['Total Female'] < Q1-1.5*IQR ) | (unemployment_data['Total Female'] > Q3+1.5*IQR)]['State']"
   ]
  },
  {
   "cell_type": "markdown",
   "id": "8a423056",
   "metadata": {},
   "source": [
    "Surprisingly, 2 of out these 3 states had similar trend for the male suicide victims as well. Apart from that, as it turns out Odisha witnessed exceptionally high women suicide count too."
   ]
  },
  {
   "cell_type": "markdown",
   "id": "1a0c8495",
   "metadata": {},
   "source": [
    "It has been concluded that the numbers for men look quite intense than women. But, we are inquistive to find out for which all and how many regions does this hold true for."
   ]
  },
  {
   "cell_type": "code",
   "execution_count": 15,
   "id": "5540d0ac",
   "metadata": {},
   "outputs": [],
   "source": [
    "comparison_column = np.where(unemployment_data[\"Total Male\"] > unemployment_data[\"Total Female\"], True, False)\n",
    "unemployment_data[\"greater\"] = comparison_column"
   ]
  },
  {
   "cell_type": "code",
   "execution_count": 16,
   "id": "8d378756",
   "metadata": {},
   "outputs": [
    {
     "data": {
      "text/html": [
       "<div>\n",
       "<style scoped>\n",
       "    .dataframe tbody tr th:only-of-type {\n",
       "        vertical-align: middle;\n",
       "    }\n",
       "\n",
       "    .dataframe tbody tr th {\n",
       "        vertical-align: top;\n",
       "    }\n",
       "\n",
       "    .dataframe thead th {\n",
       "        text-align: right;\n",
       "    }\n",
       "</style>\n",
       "<table border=\"1\" class=\"dataframe\">\n",
       "  <thead>\n",
       "    <tr style=\"text-align: right;\">\n",
       "      <th></th>\n",
       "      <th>State</th>\n",
       "      <th>Total Male</th>\n",
       "      <th>Total Female</th>\n",
       "    </tr>\n",
       "  </thead>\n",
       "  <tbody>\n",
       "    <tr>\n",
       "      <th>0</th>\n",
       "      <td>Andaman &amp; Nicobar Islands</td>\n",
       "      <td>10</td>\n",
       "      <td>1</td>\n",
       "    </tr>\n",
       "    <tr>\n",
       "      <th>1</th>\n",
       "      <td>Andhra Pradesh</td>\n",
       "      <td>535</td>\n",
       "      <td>107</td>\n",
       "    </tr>\n",
       "    <tr>\n",
       "      <th>2</th>\n",
       "      <td>Arunachal Pradesh</td>\n",
       "      <td>7</td>\n",
       "      <td>3</td>\n",
       "    </tr>\n",
       "    <tr>\n",
       "      <th>3</th>\n",
       "      <td>Assam</td>\n",
       "      <td>48</td>\n",
       "      <td>11</td>\n",
       "    </tr>\n",
       "    <tr>\n",
       "      <th>4</th>\n",
       "      <td>Bihar</td>\n",
       "      <td>49</td>\n",
       "      <td>7</td>\n",
       "    </tr>\n",
       "    <tr>\n",
       "      <th>5</th>\n",
       "      <td>Chandigarh</td>\n",
       "      <td>10</td>\n",
       "      <td>2</td>\n",
       "    </tr>\n",
       "    <tr>\n",
       "      <th>6</th>\n",
       "      <td>Chhattisgarh</td>\n",
       "      <td>592</td>\n",
       "      <td>34</td>\n",
       "    </tr>\n",
       "    <tr>\n",
       "      <th>9</th>\n",
       "      <td>Goa</td>\n",
       "      <td>370</td>\n",
       "      <td>55</td>\n",
       "    </tr>\n",
       "    <tr>\n",
       "      <th>10</th>\n",
       "      <td>Gujarat</td>\n",
       "      <td>43</td>\n",
       "      <td>8</td>\n",
       "    </tr>\n",
       "    <tr>\n",
       "      <th>11</th>\n",
       "      <td>Haryana</td>\n",
       "      <td>443</td>\n",
       "      <td>48</td>\n",
       "    </tr>\n",
       "    <tr>\n",
       "      <th>12</th>\n",
       "      <td>Himachal Pradesh</td>\n",
       "      <td>332</td>\n",
       "      <td>44</td>\n",
       "    </tr>\n",
       "    <tr>\n",
       "      <th>13</th>\n",
       "      <td>Jammu &amp; Kashmir</td>\n",
       "      <td>17</td>\n",
       "      <td>6</td>\n",
       "    </tr>\n",
       "    <tr>\n",
       "      <th>15</th>\n",
       "      <td>Karnataka</td>\n",
       "      <td>85</td>\n",
       "      <td>6</td>\n",
       "    </tr>\n",
       "    <tr>\n",
       "      <th>16</th>\n",
       "      <td>Kerala</td>\n",
       "      <td>800</td>\n",
       "      <td>124</td>\n",
       "    </tr>\n",
       "    <tr>\n",
       "      <th>17</th>\n",
       "      <td>Lakshadweep</td>\n",
       "      <td>430</td>\n",
       "      <td>115</td>\n",
       "    </tr>\n",
       "    <tr>\n",
       "      <th>19</th>\n",
       "      <td>Maharashtra</td>\n",
       "      <td>213</td>\n",
       "      <td>50</td>\n",
       "    </tr>\n",
       "    <tr>\n",
       "      <th>20</th>\n",
       "      <td>Manipur</td>\n",
       "      <td>591</td>\n",
       "      <td>67</td>\n",
       "    </tr>\n",
       "    <tr>\n",
       "      <th>21</th>\n",
       "      <td>Meghalaya</td>\n",
       "      <td>6</td>\n",
       "      <td>0</td>\n",
       "    </tr>\n",
       "    <tr>\n",
       "      <th>22</th>\n",
       "      <td>Mizoram</td>\n",
       "      <td>18</td>\n",
       "      <td>3</td>\n",
       "    </tr>\n",
       "    <tr>\n",
       "      <th>23</th>\n",
       "      <td>NCT of Delhi</td>\n",
       "      <td>26</td>\n",
       "      <td>1</td>\n",
       "    </tr>\n",
       "    <tr>\n",
       "      <th>24</th>\n",
       "      <td>Nagaland</td>\n",
       "      <td>1</td>\n",
       "      <td>0</td>\n",
       "    </tr>\n",
       "    <tr>\n",
       "      <th>25</th>\n",
       "      <td>Odisha</td>\n",
       "      <td>381</td>\n",
       "      <td>149</td>\n",
       "    </tr>\n",
       "    <tr>\n",
       "      <th>26</th>\n",
       "      <td>Puducherry</td>\n",
       "      <td>72</td>\n",
       "      <td>32</td>\n",
       "    </tr>\n",
       "    <tr>\n",
       "      <th>27</th>\n",
       "      <td>Punjab</td>\n",
       "      <td>94</td>\n",
       "      <td>6</td>\n",
       "    </tr>\n",
       "    <tr>\n",
       "      <th>28</th>\n",
       "      <td>Rajasthan</td>\n",
       "      <td>114</td>\n",
       "      <td>14</td>\n",
       "    </tr>\n",
       "    <tr>\n",
       "      <th>29</th>\n",
       "      <td>Sikkim</td>\n",
       "      <td>17</td>\n",
       "      <td>9</td>\n",
       "    </tr>\n",
       "    <tr>\n",
       "      <th>30</th>\n",
       "      <td>Tamil Nadu</td>\n",
       "      <td>1763</td>\n",
       "      <td>471</td>\n",
       "    </tr>\n",
       "    <tr>\n",
       "      <th>31</th>\n",
       "      <td>Tripura</td>\n",
       "      <td>2</td>\n",
       "      <td>0</td>\n",
       "    </tr>\n",
       "    <tr>\n",
       "      <th>32</th>\n",
       "      <td>Uttar Pradesh</td>\n",
       "      <td>259</td>\n",
       "      <td>63</td>\n",
       "    </tr>\n",
       "    <tr>\n",
       "      <th>33</th>\n",
       "      <td>Uttarakhand</td>\n",
       "      <td>36</td>\n",
       "      <td>5</td>\n",
       "    </tr>\n",
       "    <tr>\n",
       "      <th>34</th>\n",
       "      <td>West Bengal</td>\n",
       "      <td>1195</td>\n",
       "      <td>383</td>\n",
       "    </tr>\n",
       "  </tbody>\n",
       "</table>\n",
       "</div>"
      ],
      "text/plain": [
       "                         State  Total Male  Total Female\n",
       "0    Andaman & Nicobar Islands          10             1\n",
       "1               Andhra Pradesh         535           107\n",
       "2            Arunachal Pradesh           7             3\n",
       "3                        Assam          48            11\n",
       "4                        Bihar          49             7\n",
       "5                   Chandigarh          10             2\n",
       "6                 Chhattisgarh         592            34\n",
       "9                          Goa         370            55\n",
       "10                     Gujarat          43             8\n",
       "11                     Haryana         443            48\n",
       "12            Himachal Pradesh         332            44\n",
       "13             Jammu & Kashmir          17             6\n",
       "15                   Karnataka          85             6\n",
       "16                      Kerala         800           124\n",
       "17                 Lakshadweep         430           115\n",
       "19                 Maharashtra         213            50\n",
       "20                     Manipur         591            67\n",
       "21                   Meghalaya           6             0\n",
       "22                     Mizoram          18             3\n",
       "23                NCT of Delhi          26             1\n",
       "24                    Nagaland           1             0\n",
       "25                      Odisha         381           149\n",
       "26                  Puducherry          72            32\n",
       "27                      Punjab          94             6\n",
       "28                   Rajasthan         114            14\n",
       "29                      Sikkim          17             9\n",
       "30                  Tamil Nadu        1763           471\n",
       "31                     Tripura           2             0\n",
       "32               Uttar Pradesh         259            63\n",
       "33                 Uttarakhand          36             5\n",
       "34                 West Bengal        1195           383"
      ]
     },
     "execution_count": 16,
     "metadata": {},
     "output_type": "execute_result"
    }
   ],
   "source": [
    "df = unemployment_data[(unemployment_data[\"greater\"] == True)]\n",
    "df[[\"State\",\"Total Male\",\"Total Female\"]]"
   ]
  },
  {
   "cell_type": "code",
   "execution_count": 17,
   "id": "5a90dbe1",
   "metadata": {},
   "outputs": [
    {
     "data": {
      "text/plain": [
       "(31, 74)"
      ]
     },
     "execution_count": 17,
     "metadata": {},
     "output_type": "execute_result"
    }
   ],
   "source": [
    "df.shape"
   ]
  },
  {
   "cell_type": "markdown",
   "id": "c114de01",
   "metadata": {},
   "source": [
    "To conclude, in 31 out of 35 Indian regions, men committed more suicides than women. Even for the rest of the regions, the suicide count for women was same as that of men. So, men for sure were more suicidal than women back in 2011."
   ]
  },
  {
   "cell_type": "code",
   "execution_count": 18,
   "id": "6df96c39",
   "metadata": {},
   "outputs": [
    {
     "data": {
      "image/png": "[encoded data removed]",
      "text/plain": [
       "<Figure size 432x288 with 1 Axes>"
      ]
     },
     "metadata": {
      "needs_background": "light"
     },
     "output_type": "display_data"
    }
   ],
   "source": [
    "#Visualizing suicide counts for both genders region wise.\n",
    "\n",
    "#Looking at suicide numbers for all states and Union territories individually\n",
    "\n",
    "unemployment_data.plot(x ='State', y=['Total Male','Total Female'], kind = 'bar')\n",
    "plt.ylabel(\"SUICIDE COUNT\")\n",
    "plt.title(\"Number of suicide victims by gender in different Indian states and UTs for the year 2011\")\n",
    "plt.show()\n",
    "\n"
   ]
  },
  {
   "cell_type": "markdown",
   "id": "b8defc44",
   "metadata": {},
   "source": [
    "The above made conclusion has been backed up by the plot above."
   ]
  },
  {
   "cell_type": "markdown",
   "id": "57ac46c0",
   "metadata": {},
   "source": [
    "Next part of this analysis question to understand suicide numbers for different age groups."
   ]
  },
  {
   "cell_type": "code",
   "execution_count": 38,
   "id": "1805f30e",
   "metadata": {},
   "outputs": [],
   "source": [
    "upto_14_years = unemployment_data[\"Male upto 14 years\"].sum() + unemployment_data[\"Female upto 14 years\"].sum()\n",
    "between_15_29 = unemployment_data[\"Male 15-29 years\"].sum() + unemployment_data[\"Female 15-29 years\"].sum()\n",
    "between_30_44 = unemployment_data[\"Male 30-44 years\"].sum() + unemployment_data[\"Female 30-44 years\"].sum()\n",
    "between_45_59 = unemployment_data[\"Male 45-59 years\"].sum() + unemployment_data[\"Female 45-59 years\"].sum()\n",
    "above_60 = unemployment_data[\"Male 60 years and above\"].sum() + unemployment_data[\"Female 60 years and above\"].sum()\n"
   ]
  },
  {
   "cell_type": "code",
   "execution_count": 47,
   "id": "f0f06f05",
   "metadata": {},
   "outputs": [
    {
     "data": {
      "image/png": "[encoded data removed]",
      "text/plain": [
       "<Figure size 432x288 with 1 Axes>"
      ]
     },
     "metadata": {},
     "output_type": "display_data"
    }
   ],
   "source": [
    "# Setting labels for items in Chart\n",
    "Age_group = ['Upto 14 years', '15-29', '30-44',\n",
    "            '45-59', '60 and above']\n",
    "  \n",
    "# Setting size in Chart based on \n",
    "# given values\n",
    "suicide_count = [upto_14_years,between_15_29,between_30_44,between_45_59 ,above_60]\n",
    "\n",
    "labels = Age_group\n",
    "  \n",
    "# colors\n",
    "colors = ['#FF0000', '#0000FF', '#FFFF00', \n",
    "          '#ADFF2F', '#FFA500']\n",
    "# explosion\n",
    "explode = (0.05, 0.05, 0.05, 0.05, 0.05)\n",
    "\n",
    "# Pie Chart\n",
    "plt.pie(suicide_count, colors=colors, labels=Age_group,\n",
    "        autopct='%1.1f%%', pctdistance=0.85,\n",
    "        explode=explode)\n",
    "  \n",
    "# draw circle\n",
    "centre_circle = plt.Circle((0, 0), 0.70, fc='white')\n",
    "fig = plt.gcf()\n",
    "  \n",
    "# Adding Circle in Pie chart\n",
    "fig.gca().add_artist(centre_circle)\n",
    "\n",
    "# Adding Title of chart\n",
    "plt.title('Suicide percentages as per the age group of unemployed people')\n",
    "\n",
    "# Add Legends\n",
    "plt.legend(labels,bbox_to_anchor=(1.30, 1), loc='upper left',title =\"Age group\")\n",
    "  \n",
    "# Displaing Chart\n",
    "plt.show()\n"
   ]
  },
  {
   "cell_type": "markdown",
   "id": "506f0d7d",
   "metadata": {},
   "source": [
    "Quite evidently, unemployed people belonging to age group 30-44 committed the most number of suicides."
   ]
  },
  {
   "cell_type": "markdown",
   "id": "65ed16a9",
   "metadata": {},
   "source": [
    "Breaking down the numbers by gender."
   ]
  },
  {
   "cell_type": "code",
   "execution_count": 48,
   "id": "7191ba84",
   "metadata": {},
   "outputs": [],
   "source": [
    "Male_upto_14_years = unemployment_data[\"Male upto 14 years\"].sum() \n",
    "Female_upto_14_years = unemployment_data[\"Female upto 14 years\"].sum()\n",
    "Male_between_15_29 = unemployment_data[\"Male 15-29 years\"].sum() \n",
    "Female_between_15_29 = unemployment_data[\"Female 15-29 years\"].sum()\n",
    "Male_between_30_44 = unemployment_data[\"Male 30-44 years\"].sum()\n",
    "Female_between_30_44 = unemployment_data[\"Female 30-44 years\"].sum()\n",
    "Male_between_45_59 = unemployment_data[\"Male 45-59 years\"].sum() \n",
    "Female_between_45_59 = unemployment_data[\"Female 45-59 years\"].sum()\n",
    "Male_above_60 = unemployment_data[\"Male 60 years and above\"].sum() \n",
    "Female_above_60 = unemployment_data[\"Female 60 years and above\"].sum()\n"
   ]
  },
  {
   "cell_type": "code",
   "execution_count": 61,
   "id": "35dcc257",
   "metadata": {},
   "outputs": [
    {
     "data": {
      "image/png": "[encoded data removed]",
      "text/plain": [
       "<Figure size 432x288 with 1 Axes>"
      ]
     },
     "metadata": {
      "needs_background": "light"
     },
     "output_type": "display_data"
    }
   ],
   "source": [
    "suicide_count = [Male_upto_14_years,Male_between_15_29,Male_between_30_44,Male_between_45_59 ,Male_above_60]\n",
    "\n",
    "\n",
    "my_age_data = {'Age group':['upto 14 years', '15-29 years', '30-44 years', '45-59 years','60 years old and above'],\n",
    "               'Suicide Count' : suicide_count\n",
    "              }\n",
    " \n",
    "# Create DataFrame\n",
    "male_df = pd.DataFrame(my_age_data)\n",
    "\n",
    "\n",
    "male_df.plot(x ='Age group', y='Suicide Count', kind = 'bar')\n",
    "plt.ylabel(\"Male suicide victims count\")\n",
    "plt.xlabel(\"Age group\")\n",
    "plt.title(\"Male suicide victims as per their age group\")\n",
    "plt.show()"
   ]
  },
  {
   "cell_type": "code",
   "execution_count": 59,
   "id": "c4dc319d",
   "metadata": {},
   "outputs": [
    {
     "data": {
      "image/png": "[encoded data removed]",
      "text/plain": [
       "<Figure size 432x288 with 1 Axes>"
      ]
     },
     "metadata": {
      "needs_background": "light"
     },
     "output_type": "display_data"
    }
   ],
   "source": [
    "suicide_count = [Female_upto_14_years,Female_between_15_29,Female_between_30_44,Female_between_45_59 ,Female_above_60]\n",
    "\n",
    "\n",
    "my_age_data = {'Age group':['upto 14 years', '15-29 years', '30-44 years', '45-59 years','60 years old and above'],\n",
    "               'Suicide Count' : suicide_count\n",
    "              }\n",
    " \n",
    "# Create DataFrame\n",
    "female_df = pd.DataFrame(my_age_data)\n",
    "\n",
    "\n",
    "female_df.plot(x ='Age group', y='Suicide Count', kind = 'bar')\n",
    "plt.ylabel(\"Female suicide victims count\")\n",
    "plt.xlabel(\"Age group\")\n",
    "plt.title(\"Female suicide victims as per their age group\")\n",
    "plt.show()"
   ]
  },
  {
   "cell_type": "markdown",
   "id": "f1ab1917",
   "metadata": {},
   "source": [
    "Observing the above plotted barcharts, it can concluded that where unemployed men within age group 30-44 years committed the most suicides, majority of unemployed women on the other hand, who ended their lives fell in the category of 15-29 years."
   ]
  }
 ],
 "metadata": {
  "kernelspec": {
   "display_name": "Python 3",
   "language": "python",
   "name": "python3"
  },
  "language_info": {
   "codemirror_mode": {
    "name": "ipython",
    "version": 3
   },
   "file_extension": ".py",
   "mimetype": "text/x-python",
   "name": "python",
   "nbconvert_exporter": "python",
   "pygments_lexer": "ipython3",
   "version": "3.8.8"
  }
 },
 "nbformat": 4,
 "nbformat_minor": 5
}
